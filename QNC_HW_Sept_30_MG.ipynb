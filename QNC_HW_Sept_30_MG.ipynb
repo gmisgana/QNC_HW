{
 "cells": [
  {
   "cell_type": "code",
   "execution_count": 8,
   "id": "ae49f001",
   "metadata": {},
   "outputs": [],
   "source": [
    "import math\n",
    "import numpy as np\n",
    "import random as rnd\n",
    "import collections\n",
    "import matplotlib.pyplot as plt\n",
    "import time\n",
    "import scipy.stats as st\n",
    "\n",
    "from scipy.stats import bernoulli, binom, poisson, chi2\n",
    "from IPython.display import clear_output\n",
    "from operator import itemgetter\n",
    "from statsmodels.stats import proportion\n",
    "\n",
    "from numpy import matlib"
   ]
  },
  {
   "cell_type": "code",
   "execution_count": 18,
   "id": "5de90d21",
   "metadata": {},
   "outputs": [
    {
     "name": "stdout",
     "output_type": "stream",
     "text": [
      "They look related\n",
      "12\n"
     ]
    },
    {
     "data": {
      "image/png": "[encoded data removed]",
      "text/plain": [
       "<Figure size 432x288 with 1 Axes>"
      ]
     },
     "metadata": {
      "needs_background": "light"
     },
     "output_type": "display_data"
    }
   ],
   "source": [
    "wing_x= [10.4, 10.8, 11.1, 10.2, 10.3, 10.2, 10.7, 10.5, 10.8, 11.2, 10.6, 11.4]\n",
    "tail_y= [7.4, 7.6, 7.9, 7.2 ,7.4, 7.1, 7.4, 7.2, 7.8, 7.7, 7.8, 8.3]\n",
    "\n",
    "plt.plot(wing_x, tail_y, 'ko')\n",
    "print('They look related')"
   ]
  },
  {
   "cell_type": "code",
   "execution_count": 20,
   "id": "2bd1b64d",
   "metadata": {},
   "outputs": [
    {
     "name": "stdout",
     "output_type": "stream",
     "text": [
      "0.9912987780314938 0.9912987780314938\n",
      "0.8703545613058227 0.8703545613058227\n"
     ]
    }
   ],
   "source": [
    "mean_wing=np.sum(wing_x)/12\n",
    "mean_tail=np.sum(tail_y)/12\n",
    "w = np.sum((wing_x - mean_wing) ** 2)\n",
    "t = np.sum((tail_y - mean_tail) ** 2)\n",
    "k = np.sum((wing_x - mean_wing)*(tail_y - mean_tail))\n",
    "r_XY = k/(np.sqrt(t)*np.sqrt(k))\n",
    "r_YX = k/(np.sqrt(k)*np.sqrt(t))\n",
    "\n",
    "\n",
    "r_numpy = np.corrcoef(wing_x, tail_y)\n",
    "\n",
    "print(r_XY, r_YX)\n",
    "\n",
    "print(r_numpy[0,1], r_numpy[1,0])"
   ]
  },
  {
   "cell_type": "code",
   "execution_count": null,
   "id": "c011ee8f",
   "metadata": {},
   "outputs": [],
   "source": [
    "standard_error_r = np.sqrt((1-r_XY**2)/(n-2))"
   ]
  }
 ],
 "metadata": {
  "kernelspec": {
   "display_name": "Python 3 (ipykernel)",
   "language": "python",
   "name": "python3"
  },
  "language_info": {
   "codemirror_mode": {
    "name": "ipython",
    "version": 3
   },
   "file_extension": ".py",
   "mimetype": "text/x-python",
   "name": "python",
   "nbconvert_exporter": "python",
   "pygments_lexer": "ipython3",
   "version": "3.9.7"
  }
 },
 "nbformat": 4,
 "nbformat_minor": 5
}
