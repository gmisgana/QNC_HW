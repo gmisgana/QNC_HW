{
 "cells": [
  {
   "cell_type": "code",
   "execution_count": 60,
   "id": "d551e79e",
   "metadata": {},
   "outputs": [],
   "source": [
    "import math\n",
    "import numpy as np\n",
    "import random as rnd\n",
    "import collections\n",
    "import matplotlib.pyplot as plt\n",
    "import time\n",
    "import scipy.stats as st\n",
    "\n",
    "from scipy.stats import bernoulli, binom, poisson, chi2\n",
    "from IPython.display import clear_output\n",
    "from operator import itemgetter\n",
    "from statsmodels.stats import proportion\n",
    "\n",
    "from numpy import matlib"
   ]
  },
  {
   "cell_type": "code",
   "execution_count": 61,
   "id": "a8256f82",
   "metadata": {},
   "outputs": [
    {
     "name": "stdout",
     "output_type": "stream",
     "text": [
      "{3: 0.197, 0: 0.118, 2: 0.301, 1: 0.263, 4: 0.092, 5: 0.024, 6: 0.004, 7: 0.001}\n"
     ]
    },
    {
     "data": {
      "image/png": "[encoded data removed]",
      "text/plain": [
       "<Figure size 432x288 with 1 Axes>"
      ]
     },
     "metadata": {
      "needs_background": "light"
     },
     "output_type": "display_data"
    }
   ],
   "source": [
    "#Exercise 1\n",
    "\n",
    "p = 0.2\n",
    "n = 10                      \n",
    "num_experiments = 1000;     \n",
    "outcomes = binom.rvs(n,p,size=num_experiments)\n",
    "\n",
    "counts = collections.Counter(outcomes)\n",
    "normalized_counts = {k: v / total for total in (sum(counts.values()),) for k, v in counts.items()}\n",
    "\n",
    "print(str(normalized_counts))\n",
    "\n",
    "plt.subplot(212)\n",
    "plt.bar(normalized_counts.keys(), normalized_counts.values())\n",
    "plt.xlim([-1, n+1])\n",
    "plt.xlabel(f'Probability of success in {n} tries')\n",
    "plt.ylabel('Probability')\n",
    "plt.subplots_adjust(hspace=0.3)"
   ]
  },
  {
   "cell_type": "code",
   "execution_count": 62,
   "id": "3cc6e9f6",
   "metadata": {},
   "outputs": [
    {
     "name": "stdout",
     "output_type": "stream",
     "text": [
      "{0: 1.0}\n",
      "{2: 0.27, 0: 0.226, 1: 0.34, 4: 0.036, 3: 0.124, 5: 0.004}\n",
      "{3: 0.23, 2: 0.238, 0: 0.047, 5: 0.095, 1: 0.176, 4: 0.161, 6: 0.045, 7: 0.007, 8: 0.001}\n",
      "{5: 0.193, 6: 0.13, 4: 0.21, 3: 0.189, 2: 0.124, 10: 0.003, 7: 0.071, 8: 0.024, 1: 0.042, 0: 0.01, 9: 0.004}\n",
      "{9: 0.043, 4: 0.141, 5: 0.204, 8: 0.091, 3: 0.087, 7: 0.147, 6: 0.214, 2: 0.041, 11: 0.01, 1: 0.006, 0: 0.004, 10: 0.011, 12: 0.001}\n",
      "{7: 0.199, 8: 0.189, 6: 0.189, 5: 0.128, 9: 0.119, 4: 0.061, 11: 0.02, 10: 0.063, 12: 0.007, 3: 0.021, 13: 0.001, 2: 0.002, 1: 0.001}\n",
      "{9: 0.207, 11: 0.087, 10: 0.153, 13: 0.005, 6: 0.088, 7: 0.157, 8: 0.197, 5: 0.047, 12: 0.034, 4: 0.021, 14: 0.002, 3: 0.001, 1: 0.001}\n",
      "{11: 0.196, 8: 0.133, 12: 0.102, 10: 0.24, 9: 0.195, 7: 0.071, 6: 0.023, 13: 0.027, 5: 0.009, 14: 0.003, 4: 0.001}\n",
      "{14: 0.045, 9: 0.084, 11: 0.252, 13: 0.166, 8: 0.023, 12: 0.245, 6: 0.002, 10: 0.173, 7: 0.009, 5: 0.001}\n",
      "{9: 0.005, 12: 0.253, 11: 0.128, 14: 0.222, 13: 0.347, 10: 0.044, 8: 0.001}\n"
     ]
    }
   ],
   "source": [
    "#Exercise 2\n",
    "n = 14                     \n",
    "num_experiments = 1000; \n",
    "prob = np.arange(0, 1, 0.1)\n",
    "for p in prob:\n",
    "    outcomes = binom.rvs(n,p,size=num_experiments)\n",
    "    counts = collections.Counter(outcomes)\n",
    "    normalized_counts = {k: v / total for total in (sum(counts.values()),) for k, v in counts.items()}\n",
    "\n",
    "    print(str(normalized_counts))\n",
    "    "
   ]
  },
  {
   "cell_type": "code",
   "execution_count": 63,
   "id": "3e174615",
   "metadata": {},
   "outputs": [
    {
     "data": {
      "image/png": "[encoded data removed]",
      "text/plain": [
       "<Figure size 432x288 with 1 Axes>"
      ]
     },
     "metadata": {
      "needs_background": "light"
     },
     "output_type": "display_data"
    }
   ],
   "source": [
    "#Exercise 2\n",
    "n=14\n",
    "xs = range(0, n)\n",
    "f = plt.figure()\n",
    "for p in np.arange(0, 1, 0.1):\n",
    "    # Get the true binomial pdf\n",
    "    Y = binom.pmf(xs,n,p)\n",
    "\n",
    "    # Get the random picks, make histogram and normalize\n",
    "    counts = collections.Counter(binom.rvs(n,p,size=int(N)))\n",
    "    normalized_counts = {k: v / total for total in (sum(counts.values()),) for k, v in counts.items()}\n",
    "\n",
    "    # Show both\n",
    "    plt.bar(normalized_counts.keys(), normalized_counts.values())\n",
    "    plt.plot(xs, Y, 'ro-', linewidth=2, markersize=10)\n",
    "        \n",
    "    # Labels, etc\n",
    "    plt.title(f'p={p:.1f}, n={n}, N={N:.2f}')\n",
    "    plt.xlabel(f'Number of successes in {n} tries')\n",
    "    plt.ylabel('Probability')\n",
    "    plt.axis([-1, n+1, 0, 0.45])\n",
    "    plt.legend(('Theoretical', 'Simulated'))\n",
    "    plt.show()\n",
    "\n",
    "    # Wait\n",
    "    time.sleep(1)\n",
    "\n",
    "    # Clear for next plot\n",
    "    clear_output(wait=True)"
   ]
  },
  {
   "cell_type": "code",
   "execution_count": 64,
   "id": "ef3921dc",
   "metadata": {},
   "outputs": [
    {
     "name": "stdout",
     "output_type": "stream",
     "text": [
      "{5: 0.038, 7: 0.148, 11: 0.098, 10: 0.151, 13: 0.006, 9: 0.212, 8: 0.206, 6: 0.086, 14: 0.003, 12: 0.038, 4: 0.01, 3: 0.004}\n"
     ]
    },
    {
     "data": {
      "image/png": "[encoded data removed]",
      "text/plain": [
       "<Figure size 432x288 with 1 Axes>"
      ]
     },
     "metadata": {
      "needs_background": "light"
     },
     "output_type": "display_data"
    }
   ],
   "source": [
    "#Exercise 2 - Answer is p=0.6\n",
    "p = 0.6\n",
    "n = 14                     \n",
    "num_experiments = 1000;     \n",
    "outcomes = binom.rvs(n,p,size=num_experiments)\n",
    "\n",
    "counts = collections.Counter(outcomes)\n",
    "normalized_counts = {k: v / total for total in (sum(counts.values()),) for k, v in counts.items()}\n",
    "\n",
    "print(str(normalized_counts))\n",
    "\n",
    "plt.subplot(212)\n",
    "plt.bar(normalized_counts.keys(), normalized_counts.values())\n",
    "plt.xlim([-1, n+1])\n",
    "plt.xlabel(f'Probability of success in {n} tries')\n",
    "plt.ylabel('Probability')\n",
    "plt.subplots_adjust(hspace=0.3)"
   ]
  },
  {
   "cell_type": "code",
   "execution_count": 83,
   "id": "41524344",
   "metadata": {},
   "outputs": [
    {
     "name": "stdout",
     "output_type": "stream",
     "text": [
      "The Probability is 1.2378187214998254e-07\n",
      "The Log Probability is -15.90474491593149\n"
     ]
    },
    {
     "data": {
      "image/png": "[encoded data removed]",
      "text/plain": [
       "<Figure size 432x288 with 1 Axes>"
      ]
     },
     "metadata": {
      "needs_background": "light"
     },
     "output_type": "display_data"
    },
    {
     "name": "stderr",
     "output_type": "stream",
     "text": [
      "/var/folders/2h/mpl_tcy550sc63l7xlk3qj7r0000gq/T/ipykernel_2907/1193903437.py:26: RuntimeWarning: divide by zero encountered in log\n",
      "  log_likelihood_function = np.sum(np.log(probs),1);\n"
     ]
    },
    {
     "data": {
      "image/png": "[encoded data removed]",
      "text/plain": [
       "<Figure size 432x288 with 1 Axes>"
      ]
     },
     "metadata": {
      "needs_background": "light"
     },
     "output_type": "display_data"
    }
   ],
   "source": [
    "#Exercise 3\n",
    "prob_8 = binom.pmf(8, 14, 0.1) \n",
    "prob_4 = binom.pmf(5, 14, 0.1) \n",
    "prob_both = prob_8 * prob_4\n",
    "log_prob = np.log(prob_8) + np.log(prob_4) \n",
    "print('The Probability is ' +str(prob_both))\n",
    "print('The Log Probability is ' +str(log_prob))\n",
    "\n",
    "#full likelihood and log-likelihood functions\n",
    "ps = np.arange(0, 1, 0.1)      \n",
    "probs = binom.pmf(matlib.repmat([8, 4], ps.size, 1), \n",
    "                  matlib.repmat([14, 14], ps.size, 1), \n",
    "                  matlib.repmat(np.asmatrix(ps).T, 1, 2))\n",
    "\n",
    "plt.subplot(211)\n",
    "plt.ylabel('Likelihood')\n",
    "likelihood_function = np.prod(probs,1)          \n",
    "plt.plot(ps, likelihood_function)               \n",
    "max_likelihood = np.amax(likelihood_function)   \n",
    "plt.plot(ps[likelihood_function==max_likelihood], max_likelihood, 'ko')\n",
    "plt.show()\n",
    "\n",
    "\n",
    "plt.subplot(212)\n",
    "plt.ylabel('Log-likelihood')\n",
    "log_likelihood_function = np.sum(np.log(probs),1); \n",
    "plt.plot(ps, log_likelihood_function)               \n",
    "max_log_likelihood = np.amax(log_likelihood_function)      \n",
    "plt.plot(ps[log_likelihood_function==max_log_likelihood], max_log_likelihood, 'ko')\n",
    "plt.show()"
   ]
  },
  {
   "cell_type": "code",
   "execution_count": 82,
   "id": "8c2bf992",
   "metadata": {},
   "outputs": [
    {
     "name": "stdout",
     "output_type": "stream",
     "text": [
      "Likelihood is 0.38\n",
      "Log Likelihood is 0.38\n",
      "True Value is 0.3821428571428571\n"
     ]
    }
   ],
   "source": [
    "#Exercise 4\n",
    "counts = [0, 0, 3, 10, 19, 26, 16, 16, 5, 5, 0, 0, 0, 0, 0] \n",
    "n = len(counts)-1              \n",
    "ks = np.arange(n+1)             \n",
    "ps = np.arange(0, 1.01, 0.01)  \n",
    "\n",
    "probs = binom.pmf(matlib.repmat(ks, ps.size, 1), n, matlib.repmat(np.asmatrix(ps).T, 1, ks.size))\n",
    "counts_matrix = matlib.repmat(counts, ps.size, 1)\n",
    "\n",
    " \n",
    "likelihood_fcn = np.prod(probs ** counts_matrix, axis=1)\n",
    "p_hat_from_liklihood = ps[np.argmax(likelihood_fcn)]\n",
    "\n",
    "\n",
    "probs[probs<0.0001]=0.0001\n",
    "log_likelihood_fcn = np.sum(np.log(probs) * counts_matrix, axis=1)\n",
    "p_hat_from_log_likelihood = ps[np.argmax(log_likelihood_fcn)]\n",
    "\n",
    "p_true = np.sum(counts*ks)/(np.sum(counts)*n)\n",
    "print('Likelihood is '+ str(p_hat_from_liklihood))\n",
    "print('Log Likelihood is '+ str(p_hat_from_log_likelihood))\n",
    "print('True Value is '+ str(p_true))\n"
   ]
  },
  {
   "cell_type": "code",
   "execution_count": 72,
   "id": "3fe7498c",
   "metadata": {},
   "outputs": [
    {
     "name": "stdout",
     "output_type": "stream",
     "text": [
      "0.09328189116275992\n"
     ]
    }
   ],
   "source": [
    "#Exercise 5\n",
    "\n",
    "p_value = st.binom_test(7, 14, 0.3, alternative='greater')    \n",
    "\n",
    "print(p_value)\n",
    "\n",
    "#Not statistically significant "
   ]
  },
  {
   "cell_type": "code",
   "execution_count": null,
   "id": "06adc880",
   "metadata": {},
   "outputs": [],
   "source": []
  }
 ],
 "metadata": {
  "kernelspec": {
   "display_name": "Python 3 (ipykernel)",
   "language": "python",
   "name": "python3"
  },
  "language_info": {
   "codemirror_mode": {
    "name": "ipython",
    "version": 3
   },
   "file_extension": ".py",
   "mimetype": "text/x-python",
   "name": "python",
   "nbconvert_exporter": "python",
   "pygments_lexer": "ipython3",
   "version": "3.9.7"
  }
 },
 "nbformat": 4,
 "nbformat_minor": 5
}
