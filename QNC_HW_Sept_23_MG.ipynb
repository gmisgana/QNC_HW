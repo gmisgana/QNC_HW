{
 "cells": [
  {
   "cell_type": "code",
   "execution_count": 7,
   "id": "c2ff3394",
   "metadata": {},
   "outputs": [],
   "source": [
    "import numpy as np\n",
    "import matplotlib.pyplot as plt\n",
    "import scipy.stats as st\n",
    "from statsmodels.stats.power import TTestIndPower"
   ]
  },
  {
   "cell_type": "code",
   "execution_count": 17,
   "id": "0c072407",
   "metadata": {},
   "outputs": [
    {
     "data": {
      "image/png": "[encoded data removed]",
      "text/plain": [
       "<Figure size 432x288 with 1 Axes>"
      ]
     },
     "metadata": {
      "needs_background": "light"
     },
     "output_type": "display_data"
    },
    {
     "name": "stdout",
     "output_type": "stream",
     "text": [
      "Effect size: 4.301435475483438\n",
      "Sample size/Number needed in each group: 2.303\n",
      "Effect size: 14.33811825161146\n"
     ]
    },
    {
     "name": "stderr",
     "output_type": "stream",
     "text": [
      "/opt/anaconda3/lib/python3.9/site-packages/statsmodels/stats/power.py:415: ConvergenceWarning: \n",
      "Failed to converge on a solution.\n",
      "\n",
      "  warnings.warn(convergence_doc, ConvergenceWarning)\n"
     ]
    },
    {
     "ename": "TypeError",
     "evalue": "unsupported format string passed to numpy.ndarray.__format__",
     "output_type": "error",
     "traceback": [
      "\u001b[0;31m---------------------------------------------------------------------------\u001b[0m",
      "\u001b[0;31mTypeError\u001b[0m                                 Traceback (most recent call last)",
      "\u001b[0;32m/var/folders/2h/mpl_tcy550sc63l7xlk3qj7r0000gq/T/ipykernel_22008/169931378.py\u001b[0m in \u001b[0;36m<module>\u001b[0;34m\u001b[0m\n\u001b[1;32m     34\u001b[0m                     ratio=1, alternative='two-sided')\n\u001b[1;32m     35\u001b[0m \u001b[0mprint\u001b[0m\u001b[0;34m(\u001b[0m\u001b[0;34mf'Effect size: {es}'\u001b[0m\u001b[0;34m)\u001b[0m\u001b[0;34m\u001b[0m\u001b[0;34m\u001b[0m\u001b[0m\n\u001b[0;32m---> 36\u001b[0;31m \u001b[0mprint\u001b[0m\u001b[0;34m(\u001b[0m\u001b[0;34m'Sample size/Number needed in each group: {:.3f}'\u001b[0m\u001b[0;34m.\u001b[0m\u001b[0mformat\u001b[0m\u001b[0;34m(\u001b[0m\u001b[0mn\u001b[0m\u001b[0;34m)\u001b[0m\u001b[0;34m)\u001b[0m\u001b[0;34m\u001b[0m\u001b[0;34m\u001b[0m\u001b[0m\n\u001b[0m",
      "\u001b[0;31mTypeError\u001b[0m: unsupported format string passed to numpy.ndarray.__format__"
     ]
    }
   ],
   "source": [
    "lc_activity = st.poisson.rvs(2, size=(200, 1000))\n",
    "pd = np.random.normal(0, 1, (200, 1000))\n",
    "\n",
    "correlations = np.zeros(1000)\n",
    "for ii in np.arange(1000):\n",
    "    correlations[ii], _ = st.spearmanr(lc_activity[:,ii], pd[:,ii])    \n",
    "\n",
    "plt.hist(correlations, bins=20)\n",
    "plt.xlabel('Correlation coefficients')\n",
    "plt.ylabel('Count')\n",
    "plt.show()\n",
    "\n",
    "#power analysis\n",
    "power_ = 0.8\n",
    "alpha=0.05\n",
    "es = 0.3 /np.std(correlations)\n",
    "num_n = np.zeros(np.size(es))\n",
    "\n",
    "obj = TTestIndPower()\n",
    "n = obj.solve_power(effect_size=es, alpha=alpha, power=power_, \n",
    "                    ratio=1, alternative='two-sided')\n",
    "print(f'Effect size: {es}')  \n",
    "print('Sample size/Number needed in each group: {:.3f}'.format(n))\n",
    "\n",
    "\n",
    "#power analysis\n",
    "power_ = 0.8\n",
    "alpha=0.05\n",
    "es = 1 /np.std(correlations)\n",
    "num_n = np.zeros(np.size(es))\n",
    "\n",
    "obj = TTestIndPower()\n",
    "n = obj.solve_power(effect_size=es, alpha=alpha, power=power_, \n",
    "                    ratio=1, alternative='two-sided')\n",
    "print(f'Effect size: {es}')  \n",
    "print('Sample size/Number needed in each group: {:.3f}'.format(n))"
   ]
  },
  {
   "cell_type": "code",
   "execution_count": null,
   "id": "2216e68d",
   "metadata": {},
   "outputs": [],
   "source": []
  }
 ],
 "metadata": {
  "kernelspec": {
   "display_name": "Python 3 (ipykernel)",
   "language": "python",
   "name": "python3"
  },
  "language_info": {
   "codemirror_mode": {
    "name": "ipython",
    "version": 3
   },
   "file_extension": ".py",
   "mimetype": "text/x-python",
   "name": "python",
   "nbconvert_exporter": "python",
   "pygments_lexer": "ipython3",
   "version": "3.9.7"
  }
 },
 "nbformat": 4,
 "nbformat_minor": 5
}
