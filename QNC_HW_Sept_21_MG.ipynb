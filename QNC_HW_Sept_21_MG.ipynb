{
 "cells": [
  {
   "cell_type": "code",
   "execution_count": 2,
   "id": "dc1cf9fe",
   "metadata": {},
   "outputs": [],
   "source": [
    "#Compute confidence/credible intervals based on the four methods above for simulated \n",
    "#data sampled from a population that is Gaussian distributed with mean =10 and standard \n",
    "#deviation =2, for n=5, 10, 20, 40, 80, 160, 1000 at a 95% confidence level."
   ]
  },
  {
   "cell_type": "code",
   "execution_count": 6,
   "id": "ddb436a0",
   "metadata": {},
   "outputs": [],
   "source": [
    "import math\n",
    "import numpy as np\n",
    "import random as rnd\n",
    "import collections\n",
    "import matplotlib.pyplot as plt\n",
    "import time\n",
    "import scipy.stats as st\n",
    "\n",
    "from scipy.stats import bernoulli, binom, poisson, chi2\n",
    "from IPython.display import clear_output\n",
    "from operator import itemgetter\n",
    "from statsmodels.stats import proportion\n",
    "\n",
    "from numpy import matlib"
   ]
  },
  {
   "cell_type": "code",
   "execution_count": 22,
   "id": "09b35a8e",
   "metadata": {},
   "outputs": [
    {
     "name": "stdout",
     "output_type": "stream",
     "text": [
      "6.192560635375997 9.698650797682323\n",
      "8.388678344385166 10.867858473603413\n",
      "9.683684306681293 11.436729387834458\n",
      "9.477408818224824 10.716998882833945\n",
      "9.834145769907536 10.710668310484117\n",
      "9.539510760506841 10.159305792811404\n",
      "9.842595042421983 10.09051305534381\n"
     ]
    }
   ],
   "source": [
    "We #Method = simple, analytic w/ large n & Credible Intervals\n",
    "for n in [5, 10, 20, 40, 80, 160, 1000]:\n",
    "    data = np.random.normal(10, 2, n)\n",
    "    \n",
    "    data_mean = np.mean(data)\n",
    "    \n",
    "    z = -st.norm.ppf((1-0.95)/2)\n",
    "    SEM = 2/np.sqrt(n)\n",
    "    print(data_mean-SEM*z, data_mean+SEM*z)\n",
    " \n",
    "    "
   ]
  },
  {
   "cell_type": "code",
   "execution_count": 15,
   "id": "a547d7c0",
   "metadata": {},
   "outputs": [
    {
     "name": "stdout",
     "output_type": "stream",
     "text": [
      "9.109832563975637 12.774494071791807\n",
      "9.785634263722573 11.765128582415747\n",
      "8.883929330366641 10.914317586908783\n",
      "9.627867562157226 11.001729862665874\n",
      "9.275173155506854 10.29388983767368\n",
      "9.88738678332697 10.50549125227565\n",
      "9.858216598349564 10.107126535404046\n"
     ]
    }
   ],
   "source": [
    "#Method = simple, analytical with small n\n",
    "for n in [5, 10, 20, 40, 80, 160, 1000]:\n",
    "    data = np.random.normal(10, 2, n)\n",
    "    \n",
    "    data_mean = np.mean(data)\n",
    "    \n",
    "    t = -st.t.ppf((1-0.95)/2,df=n-1)\n",
    "    sem = np.std(data)/np.sqrt(n);\n",
    "    print(data_mean-sem*t, data_mean+sem*t)"
   ]
  },
  {
   "cell_type": "code",
   "execution_count": 21,
   "id": "94edd0cb",
   "metadata": {},
   "outputs": [
    {
     "name": "stdout",
     "output_type": "stream",
     "text": [
      "7.494620608302725 10.568940132076444\n",
      "9.210633115777206 12.529824239532589\n",
      "9.467935741526166 11.028034927511754\n",
      "9.075612546667346 10.372389303104464\n",
      "9.713796357316047 10.551847483124757\n",
      "9.674156754243024 10.238378633833642\n",
      "9.840674219671758 10.083261009822282\n"
     ]
    }
   ],
   "source": [
    "#Method = Bootstrapped\n",
    "exp = 1000\n",
    "for n in [5, 10, 20, 40, 80, 160, 1000]:\n",
    "    data = np.random.normal(10, 2, n)\n",
    "    \n",
    "    data_mean = np.mean(data)\n",
    "    \n",
    "    new_mean = [np.mean(np.random.choice(data, size=n)) for ii in np.arange(exp)]\n",
    "    print(np.percentile(new_mean, 100*(1-0.95)/2), np.percentile(new_mean, 100*(0.95+(1-0.95)/2)))    \n"
   ]
  },
  {
   "cell_type": "code",
   "execution_count": null,
   "id": "20ed9d9e",
   "metadata": {},
   "outputs": [],
   "source": []
  }
 ],
 "metadata": {
  "kernelspec": {
   "display_name": "Python 3 (ipykernel)",
   "language": "python",
   "name": "python3"
  },
  "language_info": {
   "codemirror_mode": {
    "name": "ipython",
    "version": 3
   },
   "file_extension": ".py",
   "mimetype": "text/x-python",
   "name": "python",
   "nbconvert_exporter": "python",
   "pygments_lexer": "ipython3",
   "version": "3.9.7"
  }
 },
 "nbformat": 4,
 "nbformat_minor": 5
}
