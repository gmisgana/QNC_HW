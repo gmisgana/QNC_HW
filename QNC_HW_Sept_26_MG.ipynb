{
 "cells": [
  {
   "cell_type": "code",
   "execution_count": 10,
   "id": "0a5ecf6a",
   "metadata": {},
   "outputs": [],
   "source": [
    "import scipy.stats as st\n",
    "import numpy as np\n",
    "import statsmodels.stats.multitest as smt"
   ]
  },
  {
   "cell_type": "code",
   "execution_count": 24,
   "id": "9c45e9b1",
   "metadata": {},
   "outputs": [
    {
     "name": "stdout",
     "output_type": "stream",
     "text": [
      "Found 50 out of 1000 at p<0.05 before correction\n"
     ]
    }
   ],
   "source": [
    "n= 1000\n",
    "p_values = [] \n",
    "for i in range(n):\n",
    "  s_1 = np.random.normal(1, 2, 100) \n",
    "  s_2 = np.random.normal(1 ,2 ,100) \n",
    "\n",
    "  p = st.ttest_ind(a = s_1, b = s_2)[1]\n",
    "  p_values.append(p)\n",
    "\n",
    "alpha = 0.05\n",
    "print(f'Found {len([i for i in p_values if i < alpha])} out of {n} at p<{alpha:.2f} before correction')"
   ]
  },
  {
   "cell_type": "code",
   "execution_count": 28,
   "id": "a7b82634",
   "metadata": {},
   "outputs": [
    {
     "name": "stdout",
     "output_type": "stream",
     "text": [
      "BH correction is 0\n",
      "Bonferroni correction is 0\n"
     ]
    }
   ],
   "source": [
    "p_bh_corrected = smt.multipletests(p_values, alpha = alpha, method = 'fdr_bh')[1] # perform B&H procedure\n",
    "p_bonferroni_corrected = smt.multipletests(p_values, alpha = alpha, method = 'bonferroni')[1] # perform bonferroni\n",
    "\n",
    "# How many _values were marked as significant after B&H correction at the 0.05 level? What about after bonferroni correction?\n",
    "bh = len([i for i in p_bh_corrected if i < 0.05])\n",
    "bon = len([i for i in p_bonferroni_corrected if i < 0.05])\n",
    "\n",
    "print('BH correction is ' + str(bh))\n",
    "print ('Bonferroni correction is ' + str(bon))"
   ]
  },
  {
   "cell_type": "code",
   "execution_count": null,
   "id": "cc0c3b80",
   "metadata": {},
   "outputs": [],
   "source": []
  },
  {
   "cell_type": "code",
   "execution_count": null,
   "id": "1c569b48",
   "metadata": {},
   "outputs": [],
   "source": []
  },
  {
   "cell_type": "code",
   "execution_count": null,
   "id": "80534ec8",
   "metadata": {},
   "outputs": [],
   "source": []
  }
 ],
 "metadata": {
  "kernelspec": {
   "display_name": "Python 3 (ipykernel)",
   "language": "python",
   "name": "python3"
  },
  "language_info": {
   "codemirror_mode": {
    "name": "ipython",
    "version": 3
   },
   "file_extension": ".py",
   "mimetype": "text/x-python",
   "name": "python",
   "nbconvert_exporter": "python",
   "pygments_lexer": "ipython3",
   "version": "3.9.7"
  }
 },
 "nbformat": 4,
 "nbformat_minor": 5
}
